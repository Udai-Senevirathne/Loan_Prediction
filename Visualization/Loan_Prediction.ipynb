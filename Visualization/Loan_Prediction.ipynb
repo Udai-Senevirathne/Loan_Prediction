{
 "cells": [
  {
   "metadata": {},
   "cell_type": "markdown",
   "source": [
    "<h1 style=\"background: linear-gradient(to right, #3f5efb, #feb47b);\n",
    "           -webkit-background-clip: text;\n",
    "           -webkit-text-fill-color: transparent;\n",
    "           font-family: 'inter';\n",
    "           font-size: 55px;\n",
    "           text-align: center;\">\n",
    "    Dataset Introduction\n",
    "</h1>\n"
   ],
   "id": "e9b7cc0bf076fb8f"
  },
  {
   "metadata": {},
   "cell_type": "markdown",
   "source": [
    "<h2 style=\"background: linear-gradient(to right, #ff7e5f, #feb47b);\n",
    "           -webkit-background-clip: text;\n",
    "           background-clip: text;\n",
    "           -webkit-text-fill-color: transparent;\n",
    "           text-fill-color: transparent;\n",
    "           font-family: 'inter';\n",
    "           font-size: 22px;\">\n",
    "   This dataset consists of 252,000 records related to loan applicants and their financial, professional, and demographic details. It is designed for predicting the risk associated with granting loans to individuals. The key attributes include income, age, work experience, marital status, house/car ownership, profession, location, job tenure, and house tenure. The target variable, Risk_Flag, indicates whether an applicant is at risk (1) or not (0). This dataset can be useful for building predictive models for credit risk assessment in the financial sector.\n",
    "</h2>\n",
    "\n"
   ],
   "id": "ba73e1253e90b667"
  },
  {
   "metadata": {},
   "cell_type": "code",
   "source": [
    "# Importing Libraries\n",
    "\n",
    "import pandas as pd\n",
    "import numpy as np\n",
    "import matplotlib.pyplot as plt\n",
    "import seaborn as sns"
   ],
   "id": "93d1c7184ccc0084",
   "outputs": [],
   "execution_count": null
  },
  {
   "metadata": {},
   "cell_type": "code",
   "source": [
    "# Importing Dataset\n",
    "pd.read_csv('Loan Prediction.csv')"
   ],
   "id": "56f54e1fe0734419",
   "outputs": [],
   "execution_count": null
  },
  {
   "metadata": {},
   "cell_type": "code",
   "source": [
    "# Reading the dataset\n",
    "data= pd.read_csv('Loan Prediction.csv')\n",
    "data.head()\n"
   ],
   "id": "89f1dfcaba070da",
   "outputs": [],
   "execution_count": null
  },
  {
   "metadata": {},
   "cell_type": "code",
   "source": [
    "# income distribution in a histogram\n",
    "plt.figure(figsize=(10,5))\n",
    "sns.histplot(data['Income'], color = 'purple', kde=True)\n",
    "plt.title('Income Distribution')\n",
    "plt.xlabel('Income')\n",
    "plt.ylabel('Count')\n",
    "plt.show()\n",
    "\n"
   ],
   "id": "5411d6fdc35d1d84",
   "outputs": [],
   "execution_count": null
  },
  {
   "metadata": {},
   "cell_type": "code",
   "source": [
    "# Creating age categories\n",
    "\n",
    "bins = [20, 30, 40, 50, 60, 70, 80]\n",
    "labels = ['21-30', '31-40', '41-50', '51-60', '61-70', '71-79']\n",
    "data['Age Category'] = pd.cut(data['Age'], bins=bins, labels=labels, right=False)\n",
    "\n",
    "# Plotting the age distribution\n",
    "\n",
    "plt.figure(figsize=(10,5))\n",
    "sns.countplot(x='Age Category', data=data, color='yellow')\n",
    "plt.title('Age Distribution by Category')\n",
    "plt.xlabel('Age Category')\n",
    "plt.ylabel('Count')\n",
    "plt.show()\n",
    "\n",
    "#Dropping Age Category\n",
    "data.drop('Age Category', axis=1, inplace=True)"
   ],
   "id": "6f592c69cdfc4636",
   "outputs": [],
   "execution_count": null
  },
  {
   "metadata": {},
   "cell_type": "code",
   "source": [
    "# creating Experience categories\n",
    "bins = [0, 5, 10, 15, 20, 25, 30]\n",
    "labels = ['0-5', '6-10', '11-15', '16-20', '21-25', '26-30']\n",
    "data['Experience Category'] = pd.cut(data['Experience'], bins=bins, labels=labels, right=False)\n",
    "\n",
    "# Plotting the experience distribution\n",
    "\n",
    "plt.figure(figsize=(10,5))\n",
    "sns.countplot(x='Experience Category', data=data, color = 'green')\n",
    "plt.title('Experience Distribution by Category')\n",
    "plt.xlabel('Experience Category')\n",
    "plt.ylabel('Count')\n",
    "plt.show()\n",
    "\n",
    "#Dropping Experience Category\n",
    "data.drop('Experience Category', axis=1, inplace=True)\n"
   ],
   "id": "74185172a2f25263",
   "outputs": [],
   "execution_count": null
  },
  {
   "metadata": {},
   "cell_type": "code",
   "source": [
    "#plotting the married/single  status\n",
    "marital_status_counts = data['Married/Single'].value_counts()\n",
    "\n",
    "# Plotting the pie chart\n",
    "plt.figure(figsize=(10,5))\n",
    "colors = sns.color_palette(\"pastel\")[0:2]  # Pastel colors for the pie chart\n",
    "plt.pie(marital_status_counts, labels=marital_status_counts.index, colors=colors, autopct='%1.1f%%', startangle=140)\n",
    "plt.title('Marital Status Distribution')\n",
    "plt.show()\n"
   ],
   "id": "bfc5a58da7ea62c7",
   "outputs": [],
   "execution_count": null
  },
  {
   "metadata": {},
   "cell_type": "code",
   "source": [
    "#plotting the house ownership\n",
    "house_ownership_counts = data['House_Ownership'].value_counts()\n"
   ],
   "id": "c6112aaeb827d1ce",
   "outputs": [],
   "execution_count": null
  },
  {
   "metadata": {},
   "cell_type": "code",
   "source": [
    "# Plotting the pie chart\n",
    "plt.figure(figsize=(10,5))\n",
    "colors = sns.color_palette(\"pastel\")[0:3]  # Pastel colors for the pie chart\n",
    "plt.pie(house_ownership_counts, labels=house_ownership_counts.index, colors=colors, autopct='%1.1f%%', startangle=140)\n",
    "plt.title('House Ownership Distribution')\n",
    "plt.show()\n"
   ],
   "id": "87043a3b9c3aae18",
   "outputs": [],
   "execution_count": null
  },
  {
   "metadata": {},
   "cell_type": "code",
   "source": [
    "# plotting the car ownership\n",
    "car_ownership_counts = data['Car_Ownership'].value_counts()\n"
   ],
   "id": "cee1f36f2dffcfd2",
   "outputs": [],
   "execution_count": null
  },
  {
   "metadata": {},
   "cell_type": "code",
   "source": [
    "# Plotting the pie chart\n",
    "plt.figure(figsize=(10,5))\n",
    "colors = sns.color_palette(\"pastel\")[0:2]  # Pastel colors for the pie chart\n",
    "plt.pie(car_ownership_counts, labels=car_ownership_counts.index, colors=colors, autopct='%1.1f%%', startangle=140)\n",
    "plt.title('Car Ownership Distribution')\n",
    "plt.show()\n"
   ],
   "id": "cbb7f46d2dc52acf",
   "outputs": [],
   "execution_count": null
  },
  {
   "metadata": {},
   "cell_type": "code",
   "source": [
    "# Plotting the profession distribution in a bar chart\n",
    "plt.figure(figsize=(15,15))\n",
    "sns.countplot(y='Profession', data=data, order=data['Profession'].value_counts().index, hue='Profession', palette='viridis', dodge=False, legend=False)\n",
    "plt.title('Profession Distribution')\n",
    "plt.xlabel('Count')\n",
    "plt.ylabel('Profession')\n",
    "plt.show()\n",
    "\n"
   ],
   "id": "b93a06411b462a1a",
   "outputs": [],
   "execution_count": null
  },
  {
   "metadata": {},
   "cell_type": "code",
   "source": [
    "# Plotting the city distribution in a bar chart\n",
    "plt.figure(figsize=(15,50))\n",
    "sns.countplot(y='CITY', data=data, order=data['CITY'].value_counts().index, hue='CITY', palette='viridis', dodge=False, legend=False)\n",
    "plt.title('City Distribution')\n",
    "plt.xlabel('Count')\n",
    "plt.ylabel('CITY')\n",
    "plt.show()\n"
   ],
   "id": "c6e88e6d5feace1c",
   "outputs": [],
   "execution_count": null
  },
  {
   "metadata": {},
   "cell_type": "code",
   "source": [
    "# plotting current job\n",
    "plt.figure(figsize=(10,5))\n",
    "sns.countplot(x='CURRENT_JOB_YRS', data=data, color = 'blue')\n",
    "plt.title('Current Job Years Distribution')\n",
    "plt.xlabel('Current Job Years')\n",
    "plt.ylabel('Count')\n",
    "plt.show()\n"
   ],
   "id": "2442090043c0626c",
   "outputs": [],
   "execution_count": null
  },
  {
   "metadata": {},
   "cell_type": "code",
   "source": [
    "# plotting the current house years\n",
    "plt.figure(figsize=(10,5))\n",
    "sns.countplot(x='CURRENT_HOUSE_YRS', data=data, color = 'red')\n",
    "plt.title('Current House Years Distribution')\n",
    "plt.xlabel('Current House Years')\n",
    "plt.ylabel('Count')\n",
    "plt.show()\n"
   ],
   "id": "2632e496151c5363",
   "outputs": [],
   "execution_count": null
  },
  {
   "metadata": {},
   "cell_type": "markdown",
   "source": [
    "<h1 style=\"background: linear-gradient(to right, #3f5efb, #feb47b);\n",
    "           -webkit-background-clip: text;\n",
    "           -webkit-text-fill-color: transparent;\n",
    "           font-family: 'inter';\n",
    "           font-size: 55px;\n",
    "           text-align: center;\">\n",
    "    Data Preprocessing\n",
    "</h1>"
   ],
   "id": "e64e164e97474f66"
  },
  {
   "metadata": {},
   "cell_type": "code",
   "source": [
    "# Checking for missing values\n",
    "data.isnull().sum()\n"
   ],
   "id": "fcb584e1fe925797",
   "outputs": [],
   "execution_count": null
  },
  {
   "metadata": {},
   "cell_type": "code",
   "source": [
    "# Checking for duplicates\n",
    "data.duplicated().sum()"
   ],
   "id": "7d8c3a227e902942",
   "outputs": [],
   "execution_count": null
  },
  {
   "metadata": {},
   "cell_type": "code",
   "source": [
    "# Dropping duplicates\n",
    "data.drop_duplicates(inplace=True)"
   ],
   "id": "b49517782453c3b6",
   "outputs": [],
   "execution_count": null
  },
  {
   "metadata": {},
   "cell_type": "markdown",
   "source": "<h2 style=\"color:yellow\"> Data Scaling  </h2>",
   "id": "af5362b1f77e4519"
  },
  {
   "metadata": {},
   "cell_type": "code",
   "source": [
    "# Importing MinMaxScaler\n",
    "from sklearn.preprocessing import MinMaxScaler\n"
   ],
   "id": "88663cbb5a04ff10",
   "outputs": [],
   "execution_count": null
  },
  {
   "metadata": {},
   "cell_type": "code",
   "source": [
    "# Excluding the target column\n",
    "#data = data.drop('Risk_Flag', axis=1)"
   ],
   "id": "b698243c808cca70",
   "outputs": [],
   "execution_count": null
  },
  {
   "metadata": {},
   "cell_type": "code",
   "source": [
    "# initializing the objects\n",
    "scaler = MinMaxScaler()\n",
    "\n",
    "data.head()"
   ],
   "id": "da4c16b3d03e3438",
   "outputs": [],
   "execution_count": null
  },
  {
   "metadata": {},
   "cell_type": "code",
   "source": [
    "import pandas as pd\n",
    "from sklearn.preprocessing import LabelEncoder\n",
    "\n",
    "\n",
    "# Sample data\n",
    "# data = pd.DataFrame({\n",
    "#     'Married/Single': ['Married', 'Single', 'Married', 'Single'],\n",
    "#     'House_Ownership': ['Own', 'Rent', 'Own', 'Rent'],\n",
    "#     'Car_Ownership': ['Yes', 'No', 'Yes', 'No'],\n",
    "#     'Profession': ['Engineer', 'Doctor', 'Artist', 'Engineer'],\n",
    "#     'CITY': ['New York', 'Los Angeles', 'Chicago', 'Houston'],\n",
    "#     'STATE': ['NY', 'CA', 'IL', 'TX']\n",
    "# })\n",
    "\n",
    "label_encoder = LabelEncoder()\n",
    "\n",
    "data['Married/Single'] = label_encoder.fit_transform(data['Married/Single'])\n",
    "data['House_Ownership'] = label_encoder.fit_transform(data['House_Ownership'])\n",
    "data['Car_Ownership'] = label_encoder.fit_transform(data['Car_Ownership'])\n",
    "data['Profession'] = label_encoder.fit_transform(data['Profession'])\n",
    "data['CITY'] = label_encoder.fit_transform(data['CITY'])\n",
    "data['STATE'] = label_encoder.fit_transform(data['STATE'])\n",
    "data['Age'] = label_encoder.fit_transform(data['Age'])\n",
    "\n",
    "print(data.head(10))"
   ],
   "id": "3eebf4dd4de28fac",
   "outputs": [],
   "execution_count": null
  },
  {
   "metadata": {},
   "cell_type": "code",
   "source": [
    "# Scaling the features\n",
    "scaled_features = scaler.fit_transform(data)\n",
    "scaled_features"
   ],
   "id": "3afe5bc3e1b4b3e7",
   "outputs": [],
   "execution_count": null
  },
  {
   "metadata": {},
   "cell_type": "markdown",
   "source": [
    "<h1 style=\"background: linear-gradient(to right, #3f5efb, #feb47b);\n",
    "           -webkit-background-clip: text;\n",
    "           -webkit-text-fill-color: transparent;\n",
    "           font-family: 'inter';\n",
    "           font-size: 55px;\n",
    "           text-align: center;\">\n",
    "    Model Building\n",
    "</h1>"
   ],
   "id": "91d6c6abc87b3548"
  },
  {
   "metadata": {},
   "cell_type": "code",
   "source": [
    "# Importing Libraries\n",
    "from sklearn.model_selection import train_test_split\n",
    "\n",
    "from sklearn.linear_model import LogisticRegression\n",
    "from sklearn.metrics import accuracy_score\n",
    "data.head()"
   ],
   "id": "537fdd8ce7ab2dea",
   "outputs": [],
   "execution_count": null
  },
  {
   "metadata": {},
   "cell_type": "code",
   "source": [
    "# Splitting the data\n",
    "Y = data['Risk_Flag']\n",
    "X = data.drop('Risk_Flag', axis=1)\n",
    "\n",
    "X_train, X_test, Y_train, Y_test = train_test_split(X, Y, test_size=0.3, random_state=42)\n",
    "\n",
    "#Shape of the data\n",
    "X_train.shape, X_test.shape, Y_train.shape, Y_test.shape"
   ],
   "id": "e8b59ca2d21776ee",
   "outputs": [],
   "execution_count": null
  },
  {
   "metadata": {},
   "cell_type": "markdown",
   "source": "<h2 style=\"color:yellow\"> KNN </h2>",
   "id": "b2c7aa1da38108ea"
  },
  {
   "metadata": {},
   "cell_type": "code",
   "source": [
    "\n",
    "# KNN Model\n",
    "from sklearn.neighbors import KNeighborsClassifier\n",
    "from sklearn.metrics import accuracy_score\n",
    "%matplotlib inline\n"
   ],
   "id": "e5765296a05bdf5b",
   "outputs": [],
   "execution_count": null
  },
  {
   "metadata": {},
   "cell_type": "code",
   "source": [
    "# Fitting the model\n",
    "knn = KNeighborsClassifier(n_neighbors=10)\n",
    "knn.fit(X_train, Y_train)\n",
    "\n"
   ],
   "id": "397031c0c27211d7",
   "outputs": [],
   "execution_count": null
  },
  {
   "metadata": {},
   "cell_type": "code",
   "source": [
    "# Predicting the target values\n",
    "Y_pred = knn.predict(X_test)\n",
    "Y_pred\n"
   ],
   "id": "fbe524170af045ea",
   "outputs": [],
   "execution_count": null
  },
  {
   "metadata": {},
   "cell_type": "code",
   "source": [
    "from sklearn.metrics import precision_score, recall_score, f1_score\n",
    "\n",
    "# Accuracy of the model\n",
    "accuracy = accuracy_score(Y_test, Y_pred)\n",
    "precision = precision_score(Y_test, Y_pred)\n",
    "recall = recall_score(Y_test, Y_pred)\n",
    "f1 = f1_score(Y_test, Y_pred)\n",
    "print(\"Accuracy: \", accuracy)\n",
    "print(\"Precision: \", precision)\n",
    "print(\"Recall: \", recall)\n",
    "print(\"F1 Score: \", f1)\n"
   ],
   "id": "a22bfade19acf8ce",
   "outputs": [],
   "execution_count": null
  },
  {
   "metadata": {},
   "cell_type": "code",
   "source": [
    "# Classification Report\n",
    "from sklearn.metrics import classification_report\n",
    "print(classification_report(Y_test, Y_pred))\n"
   ],
   "id": "311a5fc1644feedc",
   "outputs": [],
   "execution_count": null
  },
  {
   "metadata": {},
   "cell_type": "code",
   "source": "",
   "id": "158449a5369d552c",
   "outputs": [],
   "execution_count": null
  },
  {
   "metadata": {},
   "cell_type": "markdown",
   "source": "<h2 style=\"color:yellow\"> Decision Tree </h2>",
   "id": "72ce2971978d8d4b"
  },
  {
   "metadata": {},
   "cell_type": "code",
   "source": [
    "# Decision Tree Model\n",
    "from sklearn.tree import DecisionTreeClassifier\n",
    "from sklearn.metrics import accuracy_score\n"
   ],
   "id": "80b30432c98db953",
   "outputs": [],
   "execution_count": null
  },
  {
   "metadata": {},
   "cell_type": "code",
   "source": [
    "# Fitting the model\n",
    "dt = DecisionTreeClassifier()\n",
    "dt.fit(X_train, Y_train)\n"
   ],
   "id": "5277a44dba166ace",
   "outputs": [],
   "execution_count": null
  },
  {
   "metadata": {},
   "cell_type": "code",
   "source": [
    "# Predicting the target values\n",
    "Y_pred = dt.predict(X_test)\n",
    "Y_pred\n"
   ],
   "id": "9b5dd8a2a54585f0",
   "outputs": [],
   "execution_count": null
  },
  {
   "metadata": {},
   "cell_type": "code",
   "source": [
    "# Accuracy of the model\n",
    "accuracy = accuracy_score(Y_test, Y_pred)\n",
    "precision = precision_score(Y_test, Y_pred)\n",
    "recall = recall_score(Y_test, Y_pred)\n",
    "f1 = f1_score(Y_test, Y_pred)\n",
    "print(\"Accuracy: \", accuracy)\n",
    "print(\"Precision: \", precision)\n",
    "print(\"Recall: \", recall)\n",
    "print(\"F1 Score: \", f1)\n"
   ],
   "id": "ff68fbe9701e03d",
   "outputs": [],
   "execution_count": null
  },
  {
   "metadata": {},
   "cell_type": "code",
   "source": "model2 = DecisionTreeClassifier(criterion='entropy')",
   "id": "c09a81bb71d8c882",
   "outputs": [],
   "execution_count": null
  },
  {
   "metadata": {},
   "cell_type": "code",
   "source": "model2.fit(X,Y)",
   "id": "3d24ee017582a99e",
   "outputs": [],
   "execution_count": null
  },
  {
   "metadata": {},
   "cell_type": "code",
   "source": [
    "Y_pred2 = model2.predict(X_test)\n",
    "from sklearn.metrics import classification_report\n",
    "\n",
    "print(classification_report(Y_test,Y_pred2))\n"
   ],
   "id": "d8c7803eb39d75a",
   "outputs": [],
   "execution_count": null
  },
  {
   "metadata": {},
   "cell_type": "code",
   "source": [
    "# Display the decision tree\n",
    "from sklearn.tree import plot_tree\n",
    "from matplotlib import pyplot as plt\n",
    "plt.figure(figsize=(20,10))\n",
    "plot_tree(model2,filled = True,rounded = True)\n",
    "plt.show()\n",
    "\n"
   ],
   "id": "af837d789fa57ab7",
   "outputs": [],
   "execution_count": null
  },
  {
   "metadata": {},
   "cell_type": "markdown",
   "source": "<h2 style=\"color:yellow\"> Logistic Regression </h2>",
   "id": "1c351c97d20aaa75"
  },
  {
   "metadata": {},
   "cell_type": "code",
   "source": [
    "# Logistic Regression Model\n",
    "from sklearn.linear_model import LogisticRegression\n",
    "from sklearn.metrics import accuracy_score\n"
   ],
   "id": "f019dbefaebcdda",
   "outputs": [],
   "execution_count": null
  },
  {
   "metadata": {},
   "cell_type": "code",
   "source": [
    "# Fitting the model\n",
    "lr = LogisticRegression()\n",
    "lr.fit(X_train, Y_train)\n",
    "\n",
    "\n"
   ],
   "id": "c1aed6058abced21",
   "outputs": [],
   "execution_count": null
  },
  {
   "metadata": {},
   "cell_type": "code",
   "source": [
    "# Predicting the target values\n",
    "Y_pred = lr.predict(X_test)\n",
    "Y_pred"
   ],
   "id": "b4b831bf76a0c150",
   "outputs": [],
   "execution_count": null
  },
  {
   "metadata": {},
   "cell_type": "code",
   "source": [
    "# Accuracy of the model\n",
    "accuracy = accuracy_score(Y_test, Y_pred)\n",
    "precision = precision_score(Y_test, Y_pred, zero_division=1)\n",
    "recall = recall_score(Y_test, Y_pred)\n",
    "f1 = f1_score(Y_test, Y_pred)\n",
    "print(\"Accuracy: \", accuracy)\n",
    "print(\"Precision: \", precision)\n",
    "print(\"Recall: \", recall)\n",
    "print(\"F1 Score: \", f1)\n"
   ],
   "id": "3a89b94305cd19c7",
   "outputs": [],
   "execution_count": null
  },
  {
   "metadata": {},
   "cell_type": "code",
   "source": [
    "# shape of x_train and y_train\n",
    "X_train.shape, Y_train.shape\n"
   ],
   "id": "bd1e4cf7c26f8c91",
   "outputs": [],
   "execution_count": null
  },
  {
   "metadata": {},
   "cell_type": "code",
   "source": [
    "# shape of x_test and y_test\n",
    "X_test.shape, Y_test.shape\n"
   ],
   "id": "7355de6c73444dc8",
   "outputs": [],
   "execution_count": null
  },
  {
   "metadata": {},
   "cell_type": "code",
   "source": [
    "# classification report\n",
    "from sklearn.metrics import classification_report\n",
    "print(classification_report(Y_test, Y_pred))\n"
   ],
   "id": "e851596d067e7f30",
   "outputs": [],
   "execution_count": null
  },
  {
   "metadata": {},
   "cell_type": "code",
   "source": [
    "# predict the test data\n",
    "lr.predict(X_test)\n"
   ],
   "id": "b701dd1f071ca81a",
   "outputs": [],
   "execution_count": null
  },
  {
   "metadata": {},
   "cell_type": "markdown",
   "source": "<h2 style=\"color:yellow\"> SVM </h2>",
   "id": "21626fb29f72f46"
  },
  {
   "metadata": {},
   "cell_type": "code",
   "source": [
    "# SVM Model\n",
    "from sklearn.svm import SVC\n",
    "from sklearn.metrics import accuracy_score\n"
   ],
   "id": "3929cfebfb5f521a",
   "outputs": [],
   "execution_count": null
  },
  {
   "metadata": {},
   "cell_type": "code",
   "source": [
    "# Fitting the model\n",
    "svm = SVC()\n",
    "svm.fit(X_train, Y_train)\n",
    "\n"
   ],
   "id": "558452fbe0e8b59d",
   "outputs": [],
   "execution_count": null
  },
  {
   "metadata": {},
   "cell_type": "code",
   "source": [
    "# Predicting the target values\n",
    "Y_pred = svm.predict(X_test)\n",
    "Y_pred\n"
   ],
   "id": "ec7da61d31a0bc6b",
   "outputs": [],
   "execution_count": null
  },
  {
   "metadata": {},
   "cell_type": "code",
   "source": [
    "from sklearn.metrics import classification_report\n",
    "predictions = svm.predict(X_test)\n",
    "print(classification_report(Y_test, predictions))"
   ],
   "id": "94399dd0f66f7701",
   "outputs": [],
   "execution_count": null
  },
  {
   "metadata": {},
   "cell_type": "markdown",
   "source": "<h2 style=\"color:yellow\"> Random Forest </h2>",
   "id": "dfa08e718de8864b"
  },
  {
   "metadata": {
    "ExecuteTime": {
     "end_time": "2025-03-18T07:40:49.894921Z",
     "start_time": "2025-03-18T07:40:18.590964Z"
    }
   },
   "cell_type": "code",
   "outputs": [
    {
     "name": "stdout",
     "output_type": "stream",
     "text": [
      "Accuracy: 90.88%\n",
      "Classification Report:\n",
      "              precision    recall  f1-score   support\n",
      "\n",
      "           0       0.93      0.97      0.95     44147\n",
      "           1       0.71      0.45      0.55      6253\n",
      "\n",
      "    accuracy                           0.91     50400\n",
      "   macro avg       0.82      0.71      0.75     50400\n",
      "weighted avg       0.90      0.91      0.90     50400\n",
      "\n"
     ]
    }
   ],
   "execution_count": 55,
   "source": [
    "# Random Forest Model\n",
    "\n",
    "from sklearn.ensemble import RandomForestClassifier\n",
    "\n",
    "# Define the target variable (Risk_Flag) and features\n",
    "X = data.drop(columns=['Risk_Flag'])  # Features\n",
    "y = data['Risk_Flag']  # Target\n",
    "\n",
    "# Encoding categorical columns\n",
    "label_encoder = LabelEncoder()\n",
    "\n",
    "# List of categorical columns\n",
    "categorical_columns = ['Married/Single', 'House_Ownership', 'Car_Ownership', 'Profession', 'CITY', 'STATE']\n",
    "\n",
    "# Apply label encoding to categorical columns\n",
    "for col in categorical_columns:\n",
    "    X[col] = label_encoder.fit_transform(X[col])\n",
    "\n",
    "# Now, X is ready with encoded values for categorical columns\n",
    "\n",
    "# Split the dataset into training and testing sets (80% train, 20% test)\n",
    "X_train, X_test, y_train, y_test = train_test_split(X, y, test_size=0.2, random_state=42)\n",
    "\n",
    "# Initialize the RandomForestClassifier\n",
    "rf = RandomForestClassifier(n_estimators=100, random_state=42)\n",
    "\n",
    "# Train the model\n",
    "rf.fit(X_train, y_train)\n",
    "\n",
    "# Make predictions\n",
    "y_pred = rf.predict(X_test)\n",
    "\n",
    "# Evaluate the model's accuracy\n",
    "accuracy = accuracy_score(y_test, y_pred)\n",
    "print(f\"Accuracy: {accuracy * 100:.2f}%\")\n",
    "\n",
    "# Classification report\n",
    "print(\"Classification Report:\")\n",
    "print(classification_report(y_test, y_pred))\n",
    "\n",
    "# Save the trained model\n",
    "import pickle\n",
    "with open(\"random_forest_model.pkl\", \"wb\") as file:\n",
    "    pickle.dump(rf, file)\n"
   ],
   "id": "3d0851cd05d05edd"
  },
  {
   "metadata": {
    "ExecuteTime": {
     "end_time": "2025-03-18T07:47:29.505682Z",
     "start_time": "2025-03-18T07:45:06.053422Z"
    }
   },
   "cell_type": "code",
   "source": [
    "\n",
    "# cross val score , confusion matrix\n",
    "from sklearn.model_selection import cross_val_score\n",
    "from sklearn.metrics import confusion_matrix, roc_curve, auc\n",
    "from sklearn.feature_selection import chi2, mutual_info_classif\n",
    "\n",
    "# Define features and target variable\n",
    "Y = data['Risk_Flag']\n",
    "X = data.drop('Risk_Flag', axis=1)\n",
    "\n",
    "# Convert categorical variables to numerical\n",
    "label_encoders = {}\n",
    "for column in X.select_dtypes(include=['object']).columns:\n",
    "    le = LabelEncoder()\n",
    "    X[column] = le.fit_transform(X[column])\n",
    "    label_encoders[column] = le  # Save encoders for later use\n",
    "\n",
    "# Split dataset\n",
    "X_train, X_test, Y_train, Y_test = train_test_split(X, Y, test_size=0.3, random_state=42)\n",
    "\n",
    "# Finding the best K using cross-validation\n",
    "k_range = list(range(1, 21))\n",
    "k_scores = []\n",
    "\n",
    "for k in k_range:\n",
    "    knn = KNeighborsClassifier(n_neighbors=k)\n",
    "    scores = cross_val_score(knn, X_train, Y_train, cv=5, scoring='accuracy')\n",
    "    k_scores.append(scores.mean())\n",
    "\n",
    "best_k = k_range[np.argmax(k_scores)]\n",
    "print(f\"Best K value: {best_k}\")\n",
    "\n",
    "# Train and evaluate KNN with best K\n",
    "knn_best = KNeighborsClassifier(n_neighbors=best_k)\n",
    "knn_best.fit(X_train, Y_train)\n",
    "Y_pred = knn_best.predict(X_test)\n",
    "\n",
    "print(\"Classification Report:\")\n",
    "print(classification_report(Y_test, Y_pred))\n",
    "\n",
    "# Plot ROC Curve\n",
    "Y_prob = knn_best.predict_proba(X_test)[:, 1]\n",
    "fpr, tpr, _ = roc_curve(Y_test, Y_prob)\n",
    "roc_auc = auc(fpr, tpr)\n",
    "\n",
    "plt.figure(figsize=(8, 6))\n",
    "plt.plot(fpr, tpr, color='blue', label=f'ROC curve (area = {roc_auc:.2f})')\n",
    "plt.plot([0, 1], [0, 1], color='gray', linestyle='--')\n",
    "plt.xlabel('False Positive Rate')\n",
    "plt.ylabel('True Positive Rate')\n",
    "plt.title('Receiver Operating Characteristic (ROC) Curve')\n",
    "plt.legend()\n",
    "plt.show()\n",
    "\n",
    "# Confusion Matrix\n",
    "conf_matrix = confusion_matrix(Y_test, Y_pred)\n",
    "sns.heatmap(conf_matrix, annot=True, fmt='d', cmap='Blues')\n",
    "plt.xlabel('Predicted')\n",
    "plt.ylabel('Actual')\n",
    "plt.title('Confusion Matrix')\n",
    "plt.show()\n",
    "\n",
    "# Find the best K using Chi-Square and Mutual Information\n",
    "chi_scores, _ = chi2(X_train, Y_train)\n",
    "mi_scores = mutual_info_classif(X_train, Y_train)\n",
    "\n",
    "# Print top features based on Chi-Square\n",
    "chi_sorted_indices = np.argsort(chi_scores)[::-1]\n",
    "print(\"Top features based on Chi-Square test:\")\n",
    "for i in chi_sorted_indices[:5]:\n",
    "    print(f\"{X.columns[i]}: {chi_scores[i]:.2f}\")\n",
    "\n",
    "# Print top features based on Mutual Information\n",
    "mi_sorted_indices = np.argsort(mi_scores)[::-1]\n",
    "print(\"\\nTop features based on Mutual Information:\")\n",
    "for i in mi_sorted_indices[:5]:\n",
    "    print(f\"{X.columns[i]}: {mi_scores[i]:.2f}\")"
   ],
   "id": "10419be6a05decf9",
   "outputs": [
    {
     "name": "stdout",
     "output_type": "stream",
     "text": [
      "Best K value: 20\n",
      "Classification Report:\n",
      "              precision    recall  f1-score   support\n",
      "\n",
      "           0       0.88      1.00      0.93     66329\n",
      "           1       0.35      0.00      0.01      9271\n",
      "\n",
      "    accuracy                           0.88     75600\n",
      "   macro avg       0.61      0.50      0.47     75600\n",
      "weighted avg       0.81      0.88      0.82     75600\n",
      "\n"
     ]
    },
    {
     "data": {
      "text/plain": [
       "<Figure size 800x600 with 1 Axes>"
      ],
      "image/png": "[encoded data removed]"
     },
     "metadata": {},
     "output_type": "display_data"
    },
    {
     "data": {
      "text/plain": [
       "<Figure size 640x480 with 2 Axes>"
      ],
      "image/png": "[encoded data removed]"
     },
     "metadata": {},
     "output_type": "display_data"
    },
    {
     "name": "stdout",
     "output_type": "stream",
     "text": [
      "Top features based on Chi-Square test:\n",
      "Id: 7302482.48\n",
      "Income: 895517.39\n",
      "Experience: 806.18\n",
      "Age: 508.62\n",
      "CITY: 311.00\n",
      "\n",
      "Top features based on Mutual Information:\n",
      "Income: 0.16\n",
      "House_Ownership: 0.03\n",
      "Id: 0.03\n",
      "Married/Single: 0.02\n",
      "CITY: 0.01\n"
     ]
    }
   ],
   "execution_count": 56
  },
  {
   "metadata": {
    "ExecuteTime": {
     "end_time": "2025-03-18T07:49:18.914042Z",
     "start_time": "2025-03-18T07:49:18.906565Z"
    }
   },
   "cell_type": "code",
   "source": [
    "# Save the trained model\n",
    "import joblib\n",
    "from sklearn.preprocessing import StandardScaler\n",
    "\n",
    "# Example: Create and fit a new scaler\n",
    "scaler = StandardScaler()\n",
    "\n",
    "# Assuming you have training data (replace this with your actual dataset)\n",
    "X_train = np.array([[5000, 2000, 150, 360, 1, 2]])  # Example feature values\n",
    "scaler.fit(X_train)\n",
    "\n",
    "# Save the scaler\n",
    "joblib.dump(scaler, \"scaler.pkl\")\n",
    "\n",
    "print(\"Scaler saved successfully as scaler.pkl\")"
   ],
   "id": "f85630745314e1e",
   "outputs": [
    {
     "name": "stdout",
     "output_type": "stream",
     "text": [
      "Scaler saved successfully as scaler.pkl\n"
     ]
    }
   ],
   "execution_count": 57
  },
  {
   "metadata": {
    "ExecuteTime": {
     "end_time": "2025-03-18T07:56:18.866671Z",
     "start_time": "2025-03-18T07:56:17.318649Z"
    }
   },
   "cell_type": "code",
   "source": [
    "# flask install\n",
    "!pip install flask flask-cors\n"
   ],
   "id": "4dd68b20250cde2e",
   "outputs": [
    {
     "name": "stdout",
     "output_type": "stream",
     "text": [
      "Requirement already satisfied: flask in c:\\users\\udaie\\documents\\ml_cw\\.venv\\lib\\site-packages (3.1.0)\n",
      "Requirement already satisfied: flask-cors in c:\\users\\udaie\\documents\\ml_cw\\.venv\\lib\\site-packages (5.0.1)\n",
      "Requirement already satisfied: Werkzeug>=3.1 in c:\\users\\udaie\\documents\\ml_cw\\.venv\\lib\\site-packages (from flask) (3.1.3)\n",
      "Requirement already satisfied: Jinja2>=3.1.2 in c:\\users\\udaie\\documents\\ml_cw\\.venv\\lib\\site-packages (from flask) (3.1.6)\n",
      "Requirement already satisfied: itsdangerous>=2.2 in c:\\users\\udaie\\documents\\ml_cw\\.venv\\lib\\site-packages (from flask) (2.2.0)\n",
      "Requirement already satisfied: click>=8.1.3 in c:\\users\\udaie\\documents\\ml_cw\\.venv\\lib\\site-packages (from flask) (8.1.8)\n",
      "Requirement already satisfied: blinker>=1.9 in c:\\users\\udaie\\documents\\ml_cw\\.venv\\lib\\site-packages (from flask) (1.9.0)\n",
      "Requirement already satisfied: colorama in c:\\users\\udaie\\documents\\ml_cw\\.venv\\lib\\site-packages (from click>=8.1.3->flask) (0.4.6)\n",
      "Requirement already satisfied: MarkupSafe>=2.0 in c:\\users\\udaie\\documents\\ml_cw\\.venv\\lib\\site-packages (from Jinja2>=3.1.2->flask) (3.0.2)\n"
     ]
    },
    {
     "name": "stderr",
     "output_type": "stream",
     "text": [
      "\n",
      "[notice] A new release of pip is available: 23.2.1 -> 25.0.1\n",
      "[notice] To update, run: python.exe -m pip install --upgrade pip\n"
     ]
    }
   ],
   "execution_count": 58
  },
  {
   "metadata": {
    "ExecuteTime": {
     "end_time": "2025-03-18T07:57:36.489611Z",
     "start_time": "2025-03-18T07:57:36.482611Z"
    }
   },
   "cell_type": "code",
   "source": [
    "#\n",
    "import joblib\n",
    "from sklearn.preprocessing import StandardScaler\n",
    "import numpy as np\n",
    "\n",
    "# Example: Create and fit a new scaler\n",
    "scaler = StandardScaler()\n",
    "\n",
    "# Assuming you have training data (replace this with your actual dataset)\n",
    "X_train = np.array([[5000, 2000, 150, 360, 1, 2]])  # Example feature values\n",
    "scaler.fit(X_train)\n",
    "\n",
    "# Save the scaler\n",
    "joblib.dump(scaler, \"scaler.pkl\")\n",
    "\n",
    "print(\"Scaler saved successfully as scaler.pkl\")"
   ],
   "id": "c2938c5d1a8446cd",
   "outputs": [
    {
     "name": "stdout",
     "output_type": "stream",
     "text": [
      "Scaler saved successfully as scaler.pkl\n"
     ]
    }
   ],
   "execution_count": 59
  },
  {
   "metadata": {
    "ExecuteTime": {
     "end_time": "2025-03-18T13:39:31.663167Z",
     "start_time": "2025-03-18T13:39:30.703144Z"
    }
   },
   "cell_type": "code",
   "source": [
    "# Importing Libraries\n",
    "from flask import Flask, request, jsonify\n",
    "from flask_cors import CORS\n",
    "import joblib\n",
    "import numpy as np\n",
    "\n",
    "# Load the model and scaler\n",
    "model = joblib.load(\"random_forest_model.pkl\")\n",
    "scaler = joblib.load(\"scaler.pkl\")\n",
    "\n",
    "# Create a Flask app\n",
    "app = Flask(__name__)\n",
    "CORS(app)\n",
    "\n",
    "# Define a POST endpoint\n",
    "@app.route('/predict', methods=['POST'])\n",
    "def predict():\n",
    "    # Get the JSON data from the request\n",
    "    data = request.get_json(force=True)\n",
    "\n",
    "    # Convert the JSON data to a NumPy array\n",
    "    data_array = np.array([list(data.values())])\n",
    "\n",
    "    # Scale the input features\n",
    "    scaled_features = scaler.transform(data_array)\n",
    "\n",
    "    # Make predictions\n",
    "    prediction = model.predict(scaled_features)\n",
    "\n",
    "    # Return the prediction as JSON\n",
    "    return jsonify({'prediction': prediction[0]})\n"
   ],
   "id": "3dc884464483ae6",
   "outputs": [],
   "execution_count": 2
  },
  {
   "metadata": {
    "ExecuteTime": {
     "end_time": "2025-03-18T14:33:31.937101Z",
     "start_time": "2025-03-18T14:20:13.389100Z"
    }
   },
   "cell_type": "code",
   "source": [
    "# Run the Flask app\n",
    "if __name__ == '__main__':\n",
    "    app.run(port=88000)\n"
   ],
   "id": "6af2d94ebfeab88a",
   "outputs": [
    {
     "name": "stdout",
     "output_type": "stream",
     "text": [
      " * Serving Flask app '__main__'\n",
      " * Debug mode: off\n"
     ]
    },
    {
     "name": "stderr",
     "output_type": "stream",
     "text": [
      "WARNING: This is a development server. Do not use it in a production deployment. Use a production WSGI server instead.\n",
      " * Running on http://127.0.0.1:22464\n",
      "Press CTRL+C to quit\n",
      "127.0.0.1 - - [18/Mar/2025 19:50:34] \"POST / HTTP/1.1\" 404 -\n"
     ]
    }
   ],
   "execution_count": 8
  },
  {
   "metadata": {},
   "cell_type": "code",
   "outputs": [],
   "execution_count": null,
   "source": "",
   "id": "6905fd9f04abfa4"
  }
 ],
 "metadata": {
  "kernelspec": {
   "display_name": "Python 3",
   "language": "python",
   "name": "python3"
  },
  "language_info": {
   "codemirror_mode": {
    "name": "ipython",
    "version": 2
   },
   "file_extension": ".py",
   "mimetype": "text/x-python",
   "name": "python",
   "nbconvert_exporter": "python",
   "pygments_lexer": "ipython2",
   "version": "2.7.6"
  }
 },
 "nbformat": 4,
 "nbformat_minor": 5
}
